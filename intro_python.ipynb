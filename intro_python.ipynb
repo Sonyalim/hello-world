{
  "nbformat": 4,
  "nbformat_minor": 0,
  "metadata": {
    "colab": {
      "name": "intro_python.ipynb",
      "provenance": [],
      "include_colab_link": true
    },
    "kernelspec": {
      "display_name": "Python 3",
      "language": "python",
      "name": "python3"
    },
    "language_info": {
      "codemirror_mode": {
        "name": "ipython",
        "version": 3
      },
      "file_extension": ".py",
      "mimetype": "text/x-python",
      "name": "python",
      "nbconvert_exporter": "python",
      "pygments_lexer": "ipython3",
      "version": "3.7.4"
    },
    "toc": {
      "base_numbering": 1,
      "nav_menu": {},
      "number_sections": true,
      "sideBar": true,
      "skip_h1_title": false,
      "title_cell": "Table of Contents",
      "title_sidebar": "Contents",
      "toc_cell": false,
      "toc_position": {},
      "toc_section_display": true,
      "toc_window_display": false
    }
  },
  "cells": [
    {
      "cell_type": "markdown",
      "metadata": {
        "id": "view-in-github",
        "colab_type": "text"
      },
      "source": [
        "<a href=\"https://colab.research.google.com/github/Sonyalim/hello-world/blob/master/intro_python.ipynb\" target=\"_parent\"><img src=\"https://colab.research.google.com/assets/colab-badge.svg\" alt=\"Open In Colab\"/></a>"
      ]
    },
    {
      "cell_type": "code",
      "metadata": {
        "colab_type": "code",
        "id": "OcNoWjxm091U",
        "colab": {}
      },
      "source": [
        "class Example(object):\n",
        "    def output(self, value):\n",
        "        if isinstance(value, str):\n",
        "            return value\n",
        "        else:\n",
        "            return \"ERROR: String expected!\"\n",
        "    \n",
        "my_example = Example()\n",
        "\n",
        "print(my_example.output(5))"
      ],
      "execution_count": 0,
      "outputs": []
    },
    {
      "cell_type": "code",
      "metadata": {
        "id": "QcwvR28Ob7Eo",
        "colab_type": "code",
        "colab": {
          "base_uri": "https://localhost:8080/",
          "height": 34
        },
        "outputId": "f46e116d-6519-45b9-d9a4-5cf110ca6236"
      },
      "source": [
        "print(1+1*2/5)"
      ],
      "execution_count": 6,
      "outputs": [
        {
          "output_type": "stream",
          "text": [
            "1.4\n"
          ],
          "name": "stdout"
        }
      ]
    },
    {
      "cell_type": "code",
      "metadata": {
        "colab_type": "code",
        "outputId": "11a33eca-8631-48f9-baee-84e4bb21e319",
        "id": "3zuXTKUlhPrm",
        "colab": {
          "base_uri": "https://localhost:8080/",
          "height": 252
        }
      },
      "source": [
        "# The None type\n",
        "something = None\n",
        "\n",
        "# The Boolean type\n",
        "is_tired = True\n",
        "\n",
        "#The Integer type\n",
        "age = 35\n",
        "print(1+1*2/5)\n",
        "\n",
        "#The Float type\n",
        "half = 0.5\n",
        "\n",
        "#The String type\n",
        "message = \"Hello World\"\n",
        "#you can add strings: concatenation of strings\n",
        "string1 = 'Hello'\n",
        "string2 = ' World'\n",
        "print(string1+string2)\n",
        "\n",
        "\n",
        "#The List type\n",
        "numbers = [1,2,3,4]\n",
        "mixed_list = ['Hello',1,True,None]\n",
        "matrix = [[1,2],[3,4]]\n",
        "\n",
        "#list...\n",
        "empty = []\n",
        "colours = ['blue', 'red']\n",
        "print(colours)\n",
        "print(colours[0])\n",
        "\n",
        "#The Dictionary type\n",
        "person = {\n",
        "    'name':'Ali',\n",
        "    'age':18,\n",
        "    'address':{\n",
        "        'country':'Singapore',\n",
        "        'zip': '123456'\n",
        "    }\n",
        "}\n",
        "\n",
        "print(type(something))\n",
        "print(type(is_tired))\n",
        "print(type(age))\n",
        "print(type(half))\n",
        "print(type(message))\n",
        "print(type(numbers))\n",
        "print(type(person))"
      ],
      "execution_count": 31,
      "outputs": [
        {
          "output_type": "stream",
          "text": [
            "1.4\n"
          ],
          "name": "stdout"
        },
        {
          "output_type": "error",
          "ename": "NameError",
          "evalue": "ignored",
          "traceback": [
            "\u001b[0;31m---------------------------------------------------------------------------\u001b[0m",
            "\u001b[0;31mNameError\u001b[0m                                 Traceback (most recent call last)",
            "\u001b[0;32m<ipython-input-31-c6ce08875bde>\u001b[0m in \u001b[0;36m<module>\u001b[0;34m()\u001b[0m\n\u001b[1;32m     17\u001b[0m \u001b[0mstring1\u001b[0m \u001b[0;34m=\u001b[0m \u001b[0;34m'Hello'\u001b[0m\u001b[0;34m\u001b[0m\u001b[0;34m\u001b[0m\u001b[0m\n\u001b[1;32m     18\u001b[0m \u001b[0mstring2\u001b[0m \u001b[0;34m=\u001b[0m \u001b[0;34m' World'\u001b[0m\u001b[0;34m\u001b[0m\u001b[0;34m\u001b[0m\u001b[0m\n\u001b[0;32m---> 19\u001b[0;31m \u001b[0mprint\u001b[0m\u001b[0;34m(\u001b[0m\u001b[0mstring1\u001b[0m\u001b[0;34m+\u001b[0m\u001b[0mspring2\u001b[0m\u001b[0;34m)\u001b[0m\u001b[0;34m\u001b[0m\u001b[0;34m\u001b[0m\u001b[0m\n\u001b[0m\u001b[1;32m     20\u001b[0m \u001b[0;34m\u001b[0m\u001b[0m\n\u001b[1;32m     21\u001b[0m \u001b[0;34m\u001b[0m\u001b[0m\n",
            "\u001b[0;31mNameError\u001b[0m: name 'spring2' is not defined"
          ]
        }
      ]
    },
    {
      "cell_type": "code",
      "metadata": {
        "id": "2iNRascXvpnk",
        "colab_type": "code",
        "colab": {
          "base_uri": "https://localhost:8080/",
          "height": 34
        },
        "outputId": "7614d6a2-b2da-4478-86bd-8c592e8abd40"
      },
      "source": [
        "string1 = 'Hello'\n",
        "string2 = ' World'\n",
        "print(string1+string2)"
      ],
      "execution_count": 33,
      "outputs": [
        {
          "output_type": "stream",
          "text": [
            "Hello World\n"
          ],
          "name": "stdout"
        }
      ]
    },
    {
      "cell_type": "code",
      "metadata": {
        "id": "t5eo0e19iLgf",
        "colab_type": "code",
        "colab": {}
      },
      "source": [
        ""
      ],
      "execution_count": 0,
      "outputs": []
    },
    {
      "cell_type": "code",
      "metadata": {
        "id": "iCq5fVliiFj8",
        "colab_type": "code",
        "colab": {}
      },
      "source": [
        ""
      ],
      "execution_count": 0,
      "outputs": []
    },
    {
      "cell_type": "code",
      "metadata": {
        "colab_type": "code",
        "outputId": "36604e3a-917a-46dc-9699-066e152d47c1",
        "id": "_6Jll8vVfuej",
        "colab": {
          "base_uri": "https://localhost:8080/",
          "height": 155
        }
      },
      "source": [
        "# The None type\n",
        "something = None\n",
        "\n",
        "# The Boolean type\n",
        "is_tired = True\n",
        "\n",
        "#The Integer type\n",
        "age = 35\n",
        "print(1+1*2/5)\n",
        "\n",
        "#The Float type\n",
        "half = 0.5\n",
        "\n",
        "#The String type\n",
        "message = \"Hello World\"\n",
        "\n",
        "#The List type\n",
        "numbers = [1,2,3,4]\n",
        "mixed_list = ['Hello',1,True,None]\n",
        "matrix = [[1,2],[3,4]]\n",
        "\n",
        "#The Dictionary type\n",
        "person = {\n",
        "    'name':'Ali',\n",
        "    'age':18,\n",
        "    'address':{\n",
        "        'country':'Singapore',\n",
        "        'zip': '123456'\n",
        "    }\n",
        "}\n",
        "\n",
        "print(type(something))\n",
        "print(type(is_tired))\n",
        "print(type(age))\n",
        "print(type(half))\n",
        "print(type(message))\n",
        "print(type(numbers))\n",
        "print(type(person))"
      ],
      "execution_count": 0,
      "outputs": [
        {
          "output_type": "stream",
          "text": [
            "1.4\n",
            "<class 'NoneType'>\n",
            "<class 'bool'>\n",
            "<class 'int'>\n",
            "<class 'float'>\n",
            "<class 'str'>\n",
            "<class 'list'>\n",
            "<class 'dict'>\n"
          ],
          "name": "stdout"
        }
      ]
    },
    {
      "cell_type": "code",
      "metadata": {
        "colab_type": "code",
        "id": "SLaTzj15L2LZ",
        "outputId": "c5b8e931-b434-4595-fbcc-7d6968aa4736",
        "colab": {
          "base_uri": "https://localhost:8080/",
          "height": 252
        }
      },
      "source": [
        "# The None type\n",
        "something = None\n",
        "\n",
        "# The Boolean type\n",
        "is_tired = True\n",
        "\n",
        "#The Integer type\n",
        "age = 35\n",
        "print(1+1*2/5)\n",
        "\n",
        "#The Float type\n",
        "half = 0.5\n",
        "\n",
        "#The String type\n",
        "message = \"Hello World\"\n",
        "#you can add strings:\n",
        "string1 = 'Hello'\n",
        "string2 = ' World'\n",
        "print(string1,spring2)\n",
        "\n",
        "#The List type\n",
        "numbers = [1,2,3,4]\n",
        "mixed_list = ['Hello',1,True,None]\n",
        "matrix = [[1,2],[3,4]]\n",
        "\n",
        "#Tuple\n",
        "#you create a Tuple by using round brackets\n",
        "# you cannot change them after creation\n",
        "\n",
        "colours.append\n",
        "\n",
        "\n",
        "#The Dictionary type\n",
        "person = {\n",
        "    'name':'Ali',\n",
        "    'age':18,\n",
        "    'address':{\n",
        "        'country':'Singapore',\n",
        "        'zip': '123456'\n",
        "    }\n",
        "}\n",
        "\n",
        "print(type(something))\n",
        "print(type(is_tired))\n",
        "print(type(age))\n",
        "print(type(half))\n",
        "print(type(message))\n",
        "print(type(numbers))\n",
        "print(type(person))"
      ],
      "execution_count": 9,
      "outputs": [
        {
          "output_type": "stream",
          "text": [
            "1.4\n"
          ],
          "name": "stdout"
        },
        {
          "output_type": "error",
          "ename": "NameError",
          "evalue": "ignored",
          "traceback": [
            "\u001b[0;31m---------------------------------------------------------------------------\u001b[0m",
            "\u001b[0;31mNameError\u001b[0m                                 Traceback (most recent call last)",
            "\u001b[0;32m<ipython-input-9-549ef160831a>\u001b[0m in \u001b[0;36m<module>\u001b[0;34m()\u001b[0m\n\u001b[1;32m     17\u001b[0m \u001b[0mstring1\u001b[0m \u001b[0;34m=\u001b[0m \u001b[0;34m'Hello'\u001b[0m\u001b[0;34m\u001b[0m\u001b[0;34m\u001b[0m\u001b[0m\n\u001b[1;32m     18\u001b[0m \u001b[0mstring2\u001b[0m \u001b[0;34m=\u001b[0m \u001b[0;34m' World'\u001b[0m\u001b[0;34m\u001b[0m\u001b[0;34m\u001b[0m\u001b[0m\n\u001b[0;32m---> 19\u001b[0;31m \u001b[0mprint\u001b[0m\u001b[0;34m(\u001b[0m\u001b[0mstring1\u001b[0m\u001b[0;34m,\u001b[0m\u001b[0mspring2\u001b[0m\u001b[0;34m)\u001b[0m\u001b[0;34m\u001b[0m\u001b[0;34m\u001b[0m\u001b[0m\n\u001b[0m\u001b[1;32m     20\u001b[0m \u001b[0;34m\u001b[0m\u001b[0m\n\u001b[1;32m     21\u001b[0m \u001b[0;31m#The List type\u001b[0m\u001b[0;34m\u001b[0m\u001b[0;34m\u001b[0m\u001b[0;34m\u001b[0m\u001b[0m\n",
            "\u001b[0;31mNameError\u001b[0m: name 'spring2' is not defined"
          ]
        }
      ]
    },
    {
      "cell_type": "code",
      "metadata": {
        "colab_type": "code",
        "id": "uzvbBh8401BF",
        "colab": {}
      },
      "source": [
        "something = None\n",
        "print(something)\n",
        "print(type(something))"
      ],
      "execution_count": 0,
      "outputs": []
    },
    {
      "cell_type": "code",
      "metadata": {
        "colab_type": "code",
        "id": "xgwnvVNd8kGW",
        "colab": {}
      },
      "source": [
        "print(is_tired)"
      ],
      "execution_count": 0,
      "outputs": []
    },
    {
      "cell_type": "code",
      "metadata": {
        "colab_type": "code",
        "id": "dXqSzTfWJot3",
        "colab": {}
      },
      "source": [
        "age = 35\n",
        "print(age)"
      ],
      "execution_count": 0,
      "outputs": []
    },
    {
      "cell_type": "code",
      "metadata": {
        "colab_type": "code",
        "id": "-6VjyO0fJt7K",
        "colab": {}
      },
      "source": [
        "print(5+5)\n",
        "print(10-5-5)\n",
        "print(2*2)"
      ],
      "execution_count": 0,
      "outputs": []
    },
    {
      "cell_type": "code",
      "metadata": {
        "colab_type": "code",
        "id": "vdZ15FFfJ9KI",
        "colab": {}
      },
      "source": [
        "# Careful when you divide integers!\n",
        "# In Python 2.7, when you divide 2 integers, the result is a whole number.\n",
        "# In Python 3.x, the result will be a float.\n",
        "\n",
        "print(22/10)"
      ],
      "execution_count": 0,
      "outputs": []
    },
    {
      "cell_type": "code",
      "metadata": {
        "colab_type": "code",
        "id": "117ozyLc6rJN",
        "colab": {}
      },
      "source": [
        "half = 0.5\n",
        "\n",
        "print(half)\n",
        "print(1/2)\n",
        "print(1/2.0)"
      ],
      "execution_count": 0,
      "outputs": []
    },
    {
      "cell_type": "code",
      "metadata": {
        "colab_type": "code",
        "id": "LuCyk6329cw0",
        "colab": {}
      },
      "source": [
        "name = \"Ali\"\n",
        "name = 'Ali'\n",
        "\n",
        "message = 'He said:\\n\"Let\\'s do this\"'\n",
        "print(message)"
      ],
      "execution_count": 0,
      "outputs": []
    },
    {
      "cell_type": "code",
      "metadata": {
        "colab_type": "code",
        "id": "SB_Jl5Zd9b8y",
        "colab": {}
      },
      "source": [
        "string1 = 'Hello'\n",
        "string2 = 'World'\n",
        "\n",
        "print(string1 + \" \" + string2)"
      ],
      "execution_count": 0,
      "outputs": []
    },
    {
      "cell_type": "code",
      "metadata": {
        "colab_type": "code",
        "id": "h7eBa3FGLzCD",
        "colab": {}
      },
      "source": [
        "address = 'Tampines Str 21'\n",
        "address = address.replace('Str', 'Street')\n",
        "print(address)"
      ],
      "execution_count": 0,
      "outputs": []
    },
    {
      "cell_type": "code",
      "metadata": {
        "colab_type": "code",
        "id": "QTV0o_8FMUnv",
        "colab": {}
      },
      "source": [
        "age = 35\n",
        "message = 'I am {} years old'.format(age)\n",
        "print(message)"
      ],
      "execution_count": 0,
      "outputs": []
    },
    {
      "cell_type": "code",
      "metadata": {
        "colab_type": "code",
        "id": "YVwH5zzONkvN",
        "colab": {}
      },
      "source": [
        "empty = []\n",
        "colours = ['blue','red']\n",
        "print(colours)\n",
        "print(colours[0])"
      ],
      "execution_count": 0,
      "outputs": []
    },
    {
      "cell_type": "code",
      "metadata": {
        "colab_type": "code",
        "id": "9WpLjYzyN7IO",
        "colab": {}
      },
      "source": [
        "# You can add items to a list\n",
        "\n",
        "colours = ['blue','red'] #already defined above\n",
        "\n",
        "colours.append('green')\n",
        "print(colours)\n",
        "\n",
        "colours.insert(0,'black')\n",
        "print(colours)"
      ],
      "execution_count": 0,
      "outputs": []
    },
    {
      "cell_type": "code",
      "metadata": {
        "colab_type": "code",
        "id": "gJgqysMTOdGY",
        "colab": {}
      },
      "source": [
        "colours = ('blue','red')\n",
        "print(colours)\n",
        "\n",
        "# This line will crash, cause an error\n",
        "colours.append('green')"
      ],
      "execution_count": 0,
      "outputs": []
    },
    {
      "cell_type": "code",
      "metadata": {
        "colab_type": "code",
        "id": "AphGcuJ2O0KN",
        "outputId": "04ae316d-d66c-4c35-efdc-d255cb516425",
        "colab": {
          "base_uri": "https://localhost:8080/",
          "height": 69
        }
      },
      "source": [
        "person = {\n",
        "    'name':'Ali',\n",
        "    'age':18,\n",
        "    'address':{\n",
        "        'country':'Singapore',\n",
        "        'zip': '123456'\n",
        "    }\n",
        "}\n",
        "\n",
        "print(person)\n",
        "print(person['name'])\n",
        "print(person['address']['country'])"
      ],
      "execution_count": 11,
      "outputs": [
        {
          "output_type": "stream",
          "text": [
            "{'name': 'Ali', 'age': 18, 'address': {'country': 'Singapore', 'zip': '123456'}}\n",
            "Ali\n",
            "Singapore\n"
          ],
          "name": "stdout"
        }
      ]
    },
    {
      "cell_type": "code",
      "metadata": {
        "colab_type": "code",
        "id": "MMn-Ngc74aA2",
        "colab": {}
      },
      "source": [
        "person = {\n",
        "    'name':'Ali'\n",
        "}\n",
        "\n",
        "person['age'] = 35\n",
        "\n",
        "\n",
        "print(person)"
      ],
      "execution_count": 0,
      "outputs": []
    },
    {
      "cell_type": "code",
      "metadata": {
        "colab_type": "code",
        "id": "RRcva2Ze4805",
        "colab": {}
      },
      "source": [
        "print(person.keys())"
      ],
      "execution_count": 0,
      "outputs": []
    },
    {
      "cell_type": "markdown",
      "metadata": {
        "colab_type": "text",
        "id": "yOTsZr6H7Ny5"
      },
      "source": [
        "# Functions"
      ]
    },
    {
      "cell_type": "code",
      "metadata": {
        "colab_type": "code",
        "id": "rgjKZngw5jE_",
        "colab": {}
      },
      "source": [
        "def squared(value):\n",
        "    return value * value\n",
        "\n",
        "#anything that has not been indented to the right is not part of the function.\n",
        "results = squared(2)\n",
        "\n",
        "print(results)"
      ],
      "execution_count": 0,
      "outputs": []
    },
    {
      "cell_type": "code",
      "metadata": {
        "colab_type": "code",
        "id": "Y0XirgQw7yLN",
        "colab": {}
      },
      "source": [
        "def concat(string1, string2):\n",
        "    return string1 + ' ' + string2\n",
        "\n",
        "result = concat('Hello', 'World')\n",
        "\n",
        "print(result)"
      ],
      "execution_count": 0,
      "outputs": []
    },
    {
      "cell_type": "code",
      "metadata": {
        "colab_type": "code",
        "id": "TpujhPPUEQtx",
        "outputId": "e5f533e6-038d-4954-8ab5-71d6cb116a8b",
        "colab": {
          "base_uri": "https://localhost:8080/",
          "height": 86
        }
      },
      "source": [
        "def address(name, country, city, street, postcode):\n",
        "    return '{}\\n{}\\n{} {}\\n{}'.format(name, street, city, postcode, country)\n",
        "\n",
        "result = address('Sophia', 'Singapore', 'Singapore', '8 Claymore Hill', 229572)\n",
        "print(result)"
      ],
      "execution_count": 13,
      "outputs": [
        {
          "output_type": "stream",
          "text": [
            "Sophia\n",
            "8 Claymore Hill\n",
            "Singapore 229572\n",
            "Singapore\n"
          ],
          "name": "stdout"
        }
      ]
    },
    {
      "cell_type": "code",
      "metadata": {
        "colab_type": "code",
        "id": "ZvA9RkifGAgI",
        "outputId": "f00ee590-83d9-49e8-9fbf-495bd2cd78c7",
        "colab": {
          "base_uri": "https://localhost:8080/",
          "height": 86
        }
      },
      "source": [
        "def address(name=None, \n",
        "            country='Singapore', \n",
        "            city='Singapore', \n",
        "            street=None, \n",
        "            postcode=None):\n",
        "    return '{}\\n{}\\n{} {}\\n{}'.format(name, street, city, postcode, country)\n",
        "\n",
        "result = address(name='Sophia', street='8 Claymore Hill', postcode=229572)\n",
        "'''\n",
        "there is no need to input 'Singapore' because \n",
        "they were already specified as default values \n",
        "for the 2 arguments city and country.\n",
        "'''\n",
        "\n",
        "print(result)"
      ],
      "execution_count": 14,
      "outputs": [
        {
          "output_type": "stream",
          "text": [
            "Sophia\n",
            "8 Claymore Hill\n",
            "Singapore 229572\n",
            "Singapore\n"
          ],
          "name": "stdout"
        }
      ]
    },
    {
      "cell_type": "markdown",
      "metadata": {
        "colab_type": "text",
        "id": "CtPyDJGgIK5f"
      },
      "source": [
        "# Classes"
      ]
    },
    {
      "cell_type": "code",
      "metadata": {
        "colab_type": "code",
        "id": "HrJPCVgYHWqC",
        "colab": {}
      },
      "source": [
        "#capitalise first letter of the CLASS name...\n",
        "#assign attributes...\n",
        "class Animal(object): #it is convention to capitalize class names\n",
        "    legs=4\n",
        "    speed=0\n",
        "    \n",
        "    def run(self):\n",
        "        self.speed=10\n",
        "        \n",
        "# for explanation of self, refer to:\n",
        "# https://pythontips.com/2013/08/07/the-self-variable-in-python-explained/"
      ],
      "execution_count": 0,
      "outputs": []
    },
    {
      "cell_type": "code",
      "metadata": {
        "colab_type": "code",
        "id": "cUhJBEjuIzow",
        "outputId": "e11f7b55-ee36-479f-a639-98fc334deb74",
        "colab": {
          "base_uri": "https://localhost:8080/",
          "height": 34
        }
      },
      "source": [
        "my_pet = Animal()\n",
        "my_pet.run()\n",
        "\n",
        "print(my_pet.speed)"
      ],
      "execution_count": 16,
      "outputs": [
        {
          "output_type": "stream",
          "text": [
            "10\n"
          ],
          "name": "stdout"
        }
      ]
    },
    {
      "cell_type": "code",
      "metadata": {
        "colab_type": "code",
        "id": "TGUqkNFvJDtE",
        "colab": {}
      },
      "source": [
        "class Dog(Animal):\n",
        "    def bark(self):\n",
        "        print('WOOF! WOOF!')\n",
        "        "
      ],
      "execution_count": 0,
      "outputs": []
    },
    {
      "cell_type": "code",
      "metadata": {
        "colab_type": "code",
        "id": "FpCh96ndKBcs",
        "outputId": "81e7b307-858c-4c73-cc32-9eb0d0c548c3",
        "colab": {
          "base_uri": "https://localhost:8080/",
          "height": 51
        }
      },
      "source": [
        "my_terrier = Dog()\n",
        "\n",
        "\n",
        "my_terrier.bark()\n",
        "\n",
        "my_terrier.legs"
      ],
      "execution_count": 18,
      "outputs": [
        {
          "output_type": "stream",
          "text": [
            "WOOF! WOOF!\n"
          ],
          "name": "stdout"
        },
        {
          "output_type": "execute_result",
          "data": {
            "text/plain": [
              "4"
            ]
          },
          "metadata": {
            "tags": []
          },
          "execution_count": 18
        }
      ]
    },
    {
      "cell_type": "code",
      "metadata": {
        "colab_type": "code",
        "id": "spDDT1QXKO-O",
        "colab": {}
      },
      "source": [
        "my_terrier.speed\n",
        "#speed of dog before running\n",
        "#note that speed was defined in the parent/super class named Animal"
      ],
      "execution_count": 0,
      "outputs": []
    },
    {
      "cell_type": "code",
      "metadata": {
        "colab_type": "code",
        "id": "EggF94YHKsz6",
        "colab": {}
      },
      "source": [
        "my_terrier.run()\n",
        "my_terrier.speed\n",
        "#speed of dog after running\n",
        "#note that the method run() was defined in the parent/super class named Animal"
      ],
      "execution_count": 0,
      "outputs": []
    },
    {
      "cell_type": "code",
      "metadata": {
        "colab_type": "code",
        "id": "QUrmYsxjMaD_",
        "colab": {}
      },
      "source": [
        "import datetime\n",
        "\n",
        "my_date = datetime.datetime(2018,12, 24) \n",
        "#my_date is an instance of the datetime class\n",
        "\n",
        "print(my_date.isoweekday()) # isoweekday is a function of the datetime class\n",
        "print(my_date.year) # year is an attribute of the datetime class"
      ],
      "execution_count": 0,
      "outputs": []
    },
    {
      "cell_type": "markdown",
      "metadata": {
        "colab_type": "text",
        "id": "hpipNbY5PEPI"
      },
      "source": [
        "# The  if statement"
      ]
    },
    {
      "cell_type": "code",
      "metadata": {
        "colab_type": "code",
        "id": "AhFvYWY4NzXg",
        "colab": {}
      },
      "source": [
        "age=35\n",
        "\n",
        "if age>18: #the other comparisons are >=, <=, <, ==\n",
        "    print(\"You are older than 18.\")"
      ],
      "execution_count": 0,
      "outputs": []
    },
    {
      "cell_type": "code",
      "metadata": {
        "colab_type": "code",
        "id": "5gLN9zz0QGay",
        "colab": {}
      },
      "source": [
        "age=17\n",
        "\n",
        "if age>18: \n",
        "    print(\"You are older than 18.\")\n",
        "else:\n",
        "    print('You are not older than 18.')"
      ],
      "execution_count": 0,
      "outputs": []
    },
    {
      "cell_type": "code",
      "metadata": {
        "colab_type": "code",
        "id": "dSfjEcaVQmxf",
        "colab": {}
      },
      "source": [
        "age=100\n",
        "\n",
        "if age>18:\n",
        "    print('You are older than 18.')\n",
        "elif age==100:\n",
        "    print('You are really old!')\n",
        "else:\n",
        "    print('You are not older than 18.')"
      ],
      "execution_count": 0,
      "outputs": []
    },
    {
      "cell_type": "code",
      "metadata": {
        "colab_type": "code",
        "id": "LBVL3uOlQ-qi",
        "colab": {}
      },
      "source": [
        "age=100\n",
        "\n",
        "if age==100:\n",
        "    print('You are really old!')\n",
        "elif age>18:\n",
        "    print('You are older than 18.')\n",
        "else:\n",
        "    print('You are not older than 18.')"
      ],
      "execution_count": 0,
      "outputs": []
    },
    {
      "cell_type": "code",
      "metadata": {
        "colab_type": "code",
        "id": "q0ZlTM9iRQ2M",
        "colab": {}
      },
      "source": [
        "this=1\n",
        "that=3\n",
        "something=4\n",
        "\n",
        "if (this==1 or that>2) and something<5:\n",
        "    print(\"WOW!\")"
      ],
      "execution_count": 0,
      "outputs": []
    },
    {
      "cell_type": "markdown",
      "metadata": {
        "colab_type": "text",
        "id": "6b_PMvdoS2vh"
      },
      "source": [
        "# The for loop"
      ]
    },
    {
      "cell_type": "code",
      "metadata": {
        "colab_type": "code",
        "id": "vBMkCjDFS8AW",
        "outputId": "ba77617b-8cb8-411d-bc7e-4a4b5e57bd07",
        "colab": {
          "base_uri": "https://localhost:8080/",
          "height": 103
        }
      },
      "source": [
        "people = ['Bob', 'Eve', 'Steve', 'Tim']\n",
        "\n",
        "for person in people:\n",
        "    print(person)\n",
        "    \n",
        "print(person) #this line prints Tim since it is the final item.*importance of indentation"
      ],
      "execution_count": 19,
      "outputs": [
        {
          "output_type": "stream",
          "text": [
            "Bob\n",
            "Eve\n",
            "Steve\n",
            "Tim\n",
            "Tim\n"
          ],
          "name": "stdout"
        }
      ]
    },
    {
      "cell_type": "code",
      "metadata": {
        "colab_type": "code",
        "id": "hR54aqd_U8Rm",
        "outputId": "6d64882e-7f11-4f2a-d50a-7363abd40788",
        "colab": {
          "base_uri": "https://localhost:8080/",
          "height": 103
        }
      },
      "source": [
        "for person in people:\n",
        "    if person =='Eve':\n",
        "        print(person)\n",
        "        \n",
        "    print(person)"
      ],
      "execution_count": 21,
      "outputs": [
        {
          "output_type": "stream",
          "text": [
            "Bob\n",
            "Eve\n",
            "Eve\n",
            "Steve\n",
            "Tim\n"
          ],
          "name": "stdout"
        }
      ]
    },
    {
      "cell_type": "code",
      "metadata": {
        "colab_type": "code",
        "id": "ZRWjJqHaVxSV",
        "outputId": "ad8fef43-14f6-43d5-b0bb-3fdf1027ac58",
        "colab": {
          "base_uri": "https://localhost:8080/",
          "height": 51
        }
      },
      "source": [
        "for person in people:\n",
        "    if person =='Eve':\n",
        "        print(person)\n",
        "        break\n",
        "    print(person) #'break' stops..."
      ],
      "execution_count": 22,
      "outputs": [
        {
          "output_type": "stream",
          "text": [
            "Bob\n",
            "Eve\n"
          ],
          "name": "stdout"
        }
      ]
    },
    {
      "cell_type": "code",
      "metadata": {
        "colab_type": "code",
        "id": "Kehz3wlOV9Gz",
        "outputId": "4bd1cc56-430c-4179-fbc0-b3af3c3932d5",
        "colab": {
          "base_uri": "https://localhost:8080/",
          "height": 34
        }
      },
      "source": [
        "for person in people:\n",
        "    if person =='Eve':\n",
        "        print(person) "
      ],
      "execution_count": 23,
      "outputs": [
        {
          "output_type": "stream",
          "text": [
            "Eve\n"
          ],
          "name": "stdout"
        }
      ]
    },
    {
      "cell_type": "code",
      "metadata": {
        "colab_type": "code",
        "id": "wg3FMtCAWKck",
        "outputId": "74911155-032f-4bb6-dd63-f393704a4dfe",
        "colab": {
          "base_uri": "https://localhost:8080/",
          "height": 69
        }
      },
      "source": [
        "for person in people:\n",
        "    if person =='Eve':\n",
        "        continue        \n",
        "    print(person)"
      ],
      "execution_count": 24,
      "outputs": [
        {
          "output_type": "stream",
          "text": [
            "Bob\n",
            "Steve\n",
            "Tim\n"
          ],
          "name": "stdout"
        }
      ]
    },
    {
      "cell_type": "markdown",
      "metadata": {
        "colab_type": "text",
        "id": "C2W4utiZWjzF"
      },
      "source": [
        "# The while loop"
      ]
    },
    {
      "cell_type": "code",
      "metadata": {
        "colab_type": "code",
        "id": "yQ97bAItWWCe",
        "outputId": "a1f32871-b6f1-48c0-dac0-014fe5e3fdc6",
        "colab": {
          "base_uri": "https://localhost:8080/",
          "height": 190
        }
      },
      "source": [
        "# while loop .it will continue running until the condition falls false\n",
        "counter = 0\n",
        "\n",
        "while counter<10:\n",
        "    print(counter)\n",
        "    counter+=1 # this is the same as counter = counter + 1"
      ],
      "execution_count": 25,
      "outputs": [
        {
          "output_type": "stream",
          "text": [
            "0\n",
            "1\n",
            "2\n",
            "3\n",
            "4\n",
            "5\n",
            "6\n",
            "7\n",
            "8\n",
            "9\n"
          ],
          "name": "stdout"
        }
      ]
    },
    {
      "cell_type": "code",
      "metadata": {
        "colab_type": "code",
        "id": "Fr4h8e_KXthJ",
        "outputId": "13e7a70e-711a-46dc-f7d6-2edf05cb26ea",
        "colab": {
          "base_uri": "https://localhost:8080/",
          "height": 34
        }
      },
      "source": [
        "text = 'This is some text'\n",
        "#Slicing...\n",
        "\n",
        "print(text[5:])"
      ],
      "execution_count": 26,
      "outputs": [
        {
          "output_type": "stream",
          "text": [
            "is some text\n"
          ],
          "name": "stdout"
        }
      ]
    },
    {
      "cell_type": "code",
      "metadata": {
        "colab_type": "code",
        "id": "Sm60hUDJX6ac",
        "outputId": "b7030931-d6c6-43c2-cc1c-5780392d3499",
        "colab": {
          "base_uri": "https://localhost:8080/",
          "height": 34
        }
      },
      "source": [
        "print(text[:5]) # this will give 'This' plus a space...\n"
      ],
      "execution_count": 28,
      "outputs": [
        {
          "output_type": "stream",
          "text": [
            "This \n"
          ],
          "name": "stdout"
        }
      ]
    },
    {
      "cell_type": "code",
      "metadata": {
        "colab_type": "code",
        "id": "sK97kp-9X__D",
        "outputId": "7a9a4a8f-d92a-448c-9948-7667d94ac35f",
        "colab": {
          "base_uri": "https://localhost:8080/",
          "height": 34
        }
      },
      "source": [
        "print(text[:-5])"
      ],
      "execution_count": 29,
      "outputs": [
        {
          "output_type": "stream",
          "text": [
            "This is some\n"
          ],
          "name": "stdout"
        }
      ]
    },
    {
      "cell_type": "code",
      "metadata": {
        "colab_type": "code",
        "id": "Whc_aL8LYKbl",
        "outputId": "c85b2fae-160f-4065-efad-9cddf3a52797",
        "colab": {
          "base_uri": "https://localhost:8080/",
          "height": 34
        }
      },
      "source": [
        "print(text[5:-5])"
      ],
      "execution_count": 30,
      "outputs": [
        {
          "output_type": "stream",
          "text": [
            "is some\n"
          ],
          "name": "stdout"
        }
      ]
    },
    {
      "cell_type": "code",
      "metadata": {
        "colab_type": "code",
        "id": "4C82J6PoYNUl",
        "colab": {}
      },
      "source": [
        ""
      ],
      "execution_count": 0,
      "outputs": []
    },
    {
      "cell_type": "code",
      "metadata": {
        "colab_type": "code",
        "outputId": "36604e3a-917a-46dc-9699-066e152d47c1",
        "id": "_MrLkPfMfqyv",
        "colab": {
          "base_uri": "https://localhost:8080/",
          "height": 155
        }
      },
      "source": [
        "# The None type\n",
        "something = None\n",
        "\n",
        "# The Boolean type\n",
        "is_tired = True\n",
        "\n",
        "#The Integer type\n",
        "age = 35\n",
        "print(1+1*2/5)\n",
        "\n",
        "#The Float type\n",
        "half = 0.5\n",
        "\n",
        "#The String type\n",
        "message = \"Hello World\"\n",
        "\n",
        "#The List type\n",
        "numbers = [1,2,3,4]\n",
        "mixed_list = ['Hello',1,True,None]\n",
        "matrix = [[1,2],[3,4]]\n",
        "\n",
        "#The Dictionary type\n",
        "person = {\n",
        "    'name':'Ali',\n",
        "    'age':18,\n",
        "    'address':{\n",
        "        'country':'Singapore',\n",
        "        'zip': '123456'\n",
        "    }\n",
        "}\n",
        "\n",
        "print(type(something))\n",
        "print(type(is_tired))\n",
        "print(type(age))\n",
        "print(type(half))\n",
        "print(type(message))\n",
        "print(type(numbers))\n",
        "print(type(person))"
      ],
      "execution_count": 0,
      "outputs": [
        {
          "output_type": "stream",
          "text": [
            "1.4\n",
            "<class 'NoneType'>\n",
            "<class 'bool'>\n",
            "<class 'int'>\n",
            "<class 'float'>\n",
            "<class 'str'>\n",
            "<class 'list'>\n",
            "<class 'dict'>\n"
          ],
          "name": "stdout"
        }
      ]
    },
    {
      "cell_type": "code",
      "metadata": {
        "colab_type": "code",
        "outputId": "36604e3a-917a-46dc-9699-066e152d47c1",
        "id": "e6GzNBGRfpsW",
        "colab": {
          "base_uri": "https://localhost:8080/",
          "height": 155
        }
      },
      "source": [
        "# The None type\n",
        "something = None\n",
        "\n",
        "# The Boolean type\n",
        "is_tired = True\n",
        "\n",
        "#The Integer type\n",
        "age = 35\n",
        "print(1+1*2/5)\n",
        "\n",
        "#The Float type\n",
        "half = 0.5\n",
        "\n",
        "#The String type\n",
        "message = \"Hello World\"\n",
        "\n",
        "#The List type\n",
        "numbers = [1,2,3,4]\n",
        "mixed_list = ['Hello',1,True,None]\n",
        "matrix = [[1,2],[3,4]]\n",
        "\n",
        "#The Dictionary type\n",
        "person = {\n",
        "    'name':'Ali',\n",
        "    'age':18,\n",
        "    'address':{\n",
        "        'country':'Singapore',\n",
        "        'zip': '123456'\n",
        "    }\n",
        "}\n",
        "\n",
        "print(type(something))\n",
        "print(type(is_tired))\n",
        "print(type(age))\n",
        "print(type(half))\n",
        "print(type(message))\n",
        "print(type(numbers))\n",
        "print(type(person))"
      ],
      "execution_count": 0,
      "outputs": [
        {
          "output_type": "stream",
          "text": [
            "1.4\n",
            "<class 'NoneType'>\n",
            "<class 'bool'>\n",
            "<class 'int'>\n",
            "<class 'float'>\n",
            "<class 'str'>\n",
            "<class 'list'>\n",
            "<class 'dict'>\n"
          ],
          "name": "stdout"
        }
      ]
    },
    {
      "cell_type": "code",
      "metadata": {
        "colab_type": "code",
        "outputId": "c5b8e931-b434-4595-fbcc-7d6968aa4736",
        "id": "X__SqQrqhKhH",
        "colab": {
          "base_uri": "https://localhost:8080/",
          "height": 252
        }
      },
      "source": [
        "# The None type\n",
        "something = None\n",
        "\n",
        "# The Boolean type\n",
        "is_tired = True\n",
        "\n",
        "#The Integer type\n",
        "age = 35\n",
        "print(1+1*2/5)\n",
        "\n",
        "#The Float type\n",
        "half = 0.5\n",
        "\n",
        "#The String type\n",
        "message = \"Hello World\"\n",
        "#you can add strings:\n",
        "string1 = 'Hello'\n",
        "string2 = ' World'\n",
        "print(string1,spring2)\n",
        "\n",
        "#The List type\n",
        "numbers = [1,2,3,4]\n",
        "mixed_list = ['Hello',1,True,None]\n",
        "matrix = [[1,2],[3,4]]\n",
        "\n",
        "#The Dictionary type\n",
        "person = {\n",
        "    'name':'Ali',\n",
        "    'age':18,\n",
        "    'address':{\n",
        "        'country':'Singapore',\n",
        "        'zip': '123456'\n",
        "    }\n",
        "}\n",
        "\n",
        "print(type(something))\n",
        "print(type(is_tired))\n",
        "print(type(age))\n",
        "print(type(half))\n",
        "print(type(message))\n",
        "print(type(numbers))\n",
        "print(type(person))"
      ],
      "execution_count": 0,
      "outputs": [
        {
          "output_type": "stream",
          "text": [
            "1.4\n"
          ],
          "name": "stdout"
        },
        {
          "output_type": "error",
          "ename": "NameError",
          "evalue": "ignored",
          "traceback": [
            "\u001b[0;31m---------------------------------------------------------------------------\u001b[0m",
            "\u001b[0;31mNameError\u001b[0m                                 Traceback (most recent call last)",
            "\u001b[0;32m<ipython-input-9-549ef160831a>\u001b[0m in \u001b[0;36m<module>\u001b[0;34m()\u001b[0m\n\u001b[1;32m     17\u001b[0m \u001b[0mstring1\u001b[0m \u001b[0;34m=\u001b[0m \u001b[0;34m'Hello'\u001b[0m\u001b[0;34m\u001b[0m\u001b[0;34m\u001b[0m\u001b[0m\n\u001b[1;32m     18\u001b[0m \u001b[0mstring2\u001b[0m \u001b[0;34m=\u001b[0m \u001b[0;34m' World'\u001b[0m\u001b[0;34m\u001b[0m\u001b[0;34m\u001b[0m\u001b[0m\n\u001b[0;32m---> 19\u001b[0;31m \u001b[0mprint\u001b[0m\u001b[0;34m(\u001b[0m\u001b[0mstring1\u001b[0m\u001b[0;34m,\u001b[0m\u001b[0mspring2\u001b[0m\u001b[0;34m)\u001b[0m\u001b[0;34m\u001b[0m\u001b[0;34m\u001b[0m\u001b[0m\n\u001b[0m\u001b[1;32m     20\u001b[0m \u001b[0;34m\u001b[0m\u001b[0m\n\u001b[1;32m     21\u001b[0m \u001b[0;31m#The List type\u001b[0m\u001b[0;34m\u001b[0m\u001b[0;34m\u001b[0m\u001b[0;34m\u001b[0m\u001b[0m\n",
            "\u001b[0;31mNameError\u001b[0m: name 'spring2' is not defined"
          ]
        }
      ]
    },
    {
      "cell_type": "markdown",
      "metadata": {
        "id": "jy_Hwc5BvKD2",
        "colab_type": "text"
      },
      "source": [
        "https://ga.co/sgintro\n",
        "\n",
        "https://www.kaggle.com/\n"
      ]
    }
  ]
}